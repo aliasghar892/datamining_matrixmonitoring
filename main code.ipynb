{
 "cells": [
  {
   "cell_type": "code",
   "execution_count": 1,
   "id": "78b0a91a",
   "metadata": {},
   "outputs": [],
   "source": [
    "import pandas as pd"
   ]
  },
  {
   "cell_type": "markdown",
   "id": "7c4d73b4",
   "metadata": {},
   "source": [
    "# step 1 , load and clean data"
   ]
  },
  {
   "cell_type": "code",
   "execution_count": 2,
   "id": "100e8657",
   "metadata": {},
   "outputs": [
    {
     "name": "stdout",
     "output_type": "stream",
     "text": [
      "  InvoiceNo StockCode                          Description  Quantity  \\\n",
      "0    536365    85123A   WHITE HANGING HEART T-LIGHT HOLDER         6   \n",
      "1    536365     71053                  WHITE METAL LANTERN         6   \n",
      "2    536365    84406B       CREAM CUPID HEARTS COAT HANGER         8   \n",
      "3    536365    84029G  KNITTED UNION FLAG HOT WATER BOTTLE         6   \n",
      "4    536365    84029E       RED WOOLLY HOTTIE WHITE HEART.         6   \n",
      "\n",
      "      InvoiceDate  UnitPrice  CustomerID         Country  \n",
      "0  12/1/2010 8:26       2.55     17850.0  United Kingdom  \n",
      "1  12/1/2010 8:26       3.39     17850.0  United Kingdom  \n",
      "2  12/1/2010 8:26       2.75     17850.0  United Kingdom  \n",
      "3  12/1/2010 8:26       3.39     17850.0  United Kingdom  \n",
      "4  12/1/2010 8:26       3.39     17850.0  United Kingdom  \n"
     ]
    }
   ],
   "source": [
    "df = pd.read_csv('Online Retail.csv')\n",
    "print(df.head())"
   ]
  },
  {
   "cell_type": "code",
   "execution_count": 3,
   "id": "a4badc46",
   "metadata": {},
   "outputs": [
    {
     "name": "stdout",
     "output_type": "stream",
     "text": [
      "column names :  Index(['InvoiceNo', 'StockCode', 'Description', 'Quantity', 'InvoiceDate',\n",
      "       'UnitPrice', 'CustomerID', 'Country'],\n",
      "      dtype='object')\n"
     ]
    }
   ],
   "source": [
    "print(\"column names : \", df.columns)"
   ]
  },
  {
   "cell_type": "code",
   "execution_count": 4,
   "id": "a97652c3",
   "metadata": {},
   "outputs": [
    {
     "name": "stdout",
     "output_type": "stream",
     "text": [
      "InvoiceNo           0\n",
      "StockCode           0\n",
      "Description      1454\n",
      "Quantity            0\n",
      "InvoiceDate         0\n",
      "UnitPrice           0\n",
      "CustomerID     135080\n",
      "Country             0\n",
      "dtype: int64\n"
     ]
    }
   ],
   "source": [
    "# i will check if there is any null value in any columns\n",
    "print(df.isnull().sum())"
   ]
  },
  {
   "cell_type": "code",
   "execution_count": 5,
   "id": "78b4eab4",
   "metadata": {},
   "outputs": [],
   "source": [
    "# we consider null customer id as not completed or rejected invoices so we will remove them"
   ]
  },
  {
   "cell_type": "code",
   "execution_count": 6,
   "id": "4a2d6cdf",
   "metadata": {},
   "outputs": [],
   "source": [
    "df = df[df['CustomerID'].notna() & (df['CustomerID'] != '')]"
   ]
  },
  {
   "cell_type": "code",
   "execution_count": 7,
   "id": "3c7f81fc",
   "metadata": {},
   "outputs": [],
   "source": [
    "# now remove unecessery cols\n",
    "df = df.drop([\"InvoiceDate\",\"UnitPrice\",\"CustomerID\",\"Country\"], axis=1)"
   ]
  },
  {
   "cell_type": "code",
   "execution_count": 8,
   "id": "e91d530a",
   "metadata": {},
   "outputs": [
    {
     "name": "stdout",
     "output_type": "stream",
     "text": [
      "<class 'pandas.core.frame.DataFrame'>\n",
      "Index: 406829 entries, 0 to 541908\n",
      "Data columns (total 4 columns):\n",
      " #   Column       Non-Null Count   Dtype \n",
      "---  ------       --------------   ----- \n",
      " 0   InvoiceNo    406829 non-null  object\n",
      " 1   StockCode    406829 non-null  object\n",
      " 2   Description  406829 non-null  object\n",
      " 3   Quantity     406829 non-null  int64 \n",
      "dtypes: int64(1), object(3)\n",
      "memory usage: 15.5+ MB\n"
     ]
    }
   ],
   "source": [
    "df.info()"
   ]
  },
  {
   "cell_type": "code",
   "execution_count": 9,
   "id": "5ce36639",
   "metadata": {},
   "outputs": [],
   "source": [
    "# df.describe() , useless in this case"
   ]
  },
  {
   "cell_type": "code",
   "execution_count": 10,
   "id": "d9d86fa5",
   "metadata": {},
   "outputs": [
    {
     "name": "stdout",
     "output_type": "stream",
     "text": [
      "number of negative quantity values 8905, number of zero quantity 0\n"
     ]
    }
   ],
   "source": [
    "# here i will remove items with 0 or negative quantity\n",
    "negative_quantity = (df['Quantity'] < 0).sum()\n",
    "zero_quantity = (df['Quantity'] == 0).sum()\n",
    "print(f\"number of negative quantity values {negative_quantity}, number of zero quantity {zero_quantity}\")"
   ]
  },
  {
   "cell_type": "code",
   "execution_count": 11,
   "id": "4230e685",
   "metadata": {},
   "outputs": [
    {
     "name": "stdout",
     "output_type": "stream",
     "text": [
      "  InvoiceNo StockCode\n",
      "0    536365    85123A\n",
      "1    536365     71053\n",
      "2    536365    84406B\n",
      "3    536365    84029G\n",
      "4    536365    84029E\n"
     ]
    }
   ],
   "source": [
    "# only keep rows with above zero quantity\n",
    "# drop description , because some stock numbers are empty\n",
    "# there is no way we can interpolate or ... them precisely , maybe they are not product but i dont want to lose data , so i will keep\n",
    "# using them , later i will query data set to get description if available\n",
    "\n",
    "df = df[df['Quantity'] >= 0]\n",
    "lookup_df = df.drop([\"InvoiceNo\",\"Quantity\"], axis=1).drop_duplicates(subset=['StockCode']) # i will use this for finding desc base on stockno\n",
    "df = df.drop([\"Description\",\"Quantity\"], axis=1)\n",
    "print(df.head()) # here step 1 is completed and we have a cleaned data"
   ]
  },
  {
   "cell_type": "code",
   "execution_count": null,
   "id": "6626c558",
   "metadata": {},
   "outputs": [
    {
     "name": "stdout",
     "output_type": "stream",
     "text": [
      "FAIRY CAKE NOTEBOOK A5 SIZE\n"
     ]
    }
   ],
   "source": [
    "def get_descrption(stock_code):\n",
    "    # filter rows where first column matches stock_code\n",
    "    rows = lookup_df[lookup_df.iloc[:, 0] == stock_code]\n",
    "    \n",
    "    if rows.empty:\n",
    "        return -1  # stock_code not found\n",
    "    # description can be nan for one row and non nan for other row\n",
    "    # iterate over descriptions and return first non nan\n",
    "    for descr in rows.iloc[:, 1]:\n",
    "        if pd.notna(descr):\n",
    "            return descr\n",
    "    # If all are nan\n",
    "    return \"no description\"\n",
    "\n",
    "    \n",
    "print(get_descrption(\"84534B\")) # 84534B is an example of an stock_code wiht nan and non nan data"
   ]
  },
  {
   "cell_type": "code",
   "execution_count": 14,
   "id": "e3da67a7",
   "metadata": {},
   "outputs": [
    {
     "name": "stdout",
     "output_type": "stream",
     "text": [
      "<class 'pandas.core.frame.DataFrame'>\n",
      "Index: 397924 entries, 0 to 541908\n",
      "Data columns (total 2 columns):\n",
      " #   Column     Non-Null Count   Dtype \n",
      "---  ------     --------------   ----- \n",
      " 0   InvoiceNo  397924 non-null  object\n",
      " 1   StockCode  397924 non-null  object\n",
      "dtypes: object(2)\n",
      "memory usage: 9.1+ MB\n",
      "None\n"
     ]
    }
   ],
   "source": [
    "print(df.info())"
   ]
  },
  {
   "cell_type": "markdown",
   "id": "392afab9",
   "metadata": {},
   "source": [
    "# step 2 , creating binary matrix"
   ]
  },
  {
   "cell_type": "code",
   "execution_count": null,
   "id": "2c13ced5",
   "metadata": {},
   "outputs": [
    {
     "data": {
      "text/plain": [
       "\"\\nbottom part will do one hot encoding ()\\npd.get_dummies(df['Description'], dtype=int)\\n.groupby(df['InvoiceNo']).sum()\\nit will sum dupplicate invoiceno rows , it will casue the exact thing we want\\n\\ni ran out of memory ...\\n\""
      ]
     },
     "execution_count": 15,
     "metadata": {},
     "output_type": "execute_result"
    }
   ],
   "source": [
    "# here i want to make an new dataframe , rows are invoice no , cols are existance of an item\n",
    "# binary_df = pd.get_dummies(df['Description'], dtype=int).groupby(df['InvoiceNo']).sum()\n",
    "\n",
    "'''\n",
    "bottom part will do one hot encoding ()\n",
    "pd.get_dummies(df['Description'], dtype=int)\n",
    ".groupby(df['InvoiceNo']).sum()\n",
    "it will sum dupplicate invoiceno rows , it will casue the exact thing we want\n",
    "\n",
    "i ran out of memory :| ...\n",
    "'''"
   ]
  },
  {
   "cell_type": "code",
   "execution_count": 24,
   "id": "4a3604cd",
   "metadata": {},
   "outputs": [],
   "source": [
    "# trying to Sparse[int] , because there will loots of zeros , there are other ways too but this will do the jobS\n",
    "# binary_df = pd.get_dummies(df['StockCode'], dtype='Sparse[int]').groupby(df['InvoiceNo']).sum()\n",
    "# this takes for ever!"
   ]
  },
  {
   "cell_type": "code",
   "execution_count": null,
   "id": "cd81c24b",
   "metadata": {},
   "outputs": [],
   "source": [
    "df['StockCode'] = df['StockCode'].astype('category')\n",
    "# as chatgpt says , cross table is exactly what we want in an optimal way :\n",
    "# Takes two or more categorical inputs (usually Series or arrays).\n",
    "# Counts how many times each unique pair of values occurs.\n",
    "# Returns a DataFrame with one factor as rows, the other as columns, and counts as values.\n",
    "# example :\n",
    "# data = {\n",
    "#     'Gender': ['Male', 'Female', 'Female', 'Male', 'Female'],\n",
    "#     'Preference': ['Football', 'Football', 'Tennis', 'Tennis', 'Football']\n",
    "# }\n",
    "# out put look like below :\n",
    "# | Preference | Football | Tennis |\n",
    "# | ---------- | -------- | ------ |\n",
    "# | Gender     |          |        |\n",
    "# | Female     | 2        | 1      |\n",
    "# | Male       | 1        | 1      |\n",
    "\n",
    "binary_df = pd.crosstab(df['InvoiceNo'], df['StockCode'])\n",
    "binary_df = binary_df.astype('Sparse[int]')\n",
    "binary_df = (binary_df > 0).astype('Sparse[int]')\n"
   ]
  },
  {
   "cell_type": "code",
   "execution_count": 21,
   "id": "331fd734",
   "metadata": {},
   "outputs": [
    {
     "name": "stdout",
     "output_type": "stream",
     "text": [
      "<class 'pandas.core.frame.DataFrame'>\n",
      "Index: 18536 entries, 536365 to 581587\n",
      "Columns: 3665 entries, 10002 to POST\n",
      "dtypes: Sparse[int32, 0](3665)\n",
      "memory usage: 3.1+ MB\n"
     ]
    },
    {
     "data": {
      "text/html": [
       "<div>\n",
       "<style scoped>\n",
       "    .dataframe tbody tr th:only-of-type {\n",
       "        vertical-align: middle;\n",
       "    }\n",
       "\n",
       "    .dataframe tbody tr th {\n",
       "        vertical-align: top;\n",
       "    }\n",
       "\n",
       "    .dataframe thead th {\n",
       "        text-align: right;\n",
       "    }\n",
       "</style>\n",
       "<table border=\"1\" class=\"dataframe\">\n",
       "  <thead>\n",
       "    <tr style=\"text-align: right;\">\n",
       "      <th>StockCode</th>\n",
       "      <th>10002</th>\n",
       "      <th>10080</th>\n",
       "      <th>10120</th>\n",
       "      <th>10123C</th>\n",
       "      <th>10124A</th>\n",
       "      <th>10124G</th>\n",
       "      <th>10125</th>\n",
       "      <th>10133</th>\n",
       "      <th>10135</th>\n",
       "      <th>11001</th>\n",
       "      <th>...</th>\n",
       "      <th>90214V</th>\n",
       "      <th>90214W</th>\n",
       "      <th>90214Y</th>\n",
       "      <th>90214Z</th>\n",
       "      <th>BANK CHARGES</th>\n",
       "      <th>C2</th>\n",
       "      <th>DOT</th>\n",
       "      <th>M</th>\n",
       "      <th>PADS</th>\n",
       "      <th>POST</th>\n",
       "    </tr>\n",
       "    <tr>\n",
       "      <th>InvoiceNo</th>\n",
       "      <th></th>\n",
       "      <th></th>\n",
       "      <th></th>\n",
       "      <th></th>\n",
       "      <th></th>\n",
       "      <th></th>\n",
       "      <th></th>\n",
       "      <th></th>\n",
       "      <th></th>\n",
       "      <th></th>\n",
       "      <th></th>\n",
       "      <th></th>\n",
       "      <th></th>\n",
       "      <th></th>\n",
       "      <th></th>\n",
       "      <th></th>\n",
       "      <th></th>\n",
       "      <th></th>\n",
       "      <th></th>\n",
       "      <th></th>\n",
       "      <th></th>\n",
       "    </tr>\n",
       "  </thead>\n",
       "  <tbody>\n",
       "    <tr>\n",
       "      <th>536365</th>\n",
       "      <td>0</td>\n",
       "      <td>0</td>\n",
       "      <td>0</td>\n",
       "      <td>0</td>\n",
       "      <td>0</td>\n",
       "      <td>0</td>\n",
       "      <td>0</td>\n",
       "      <td>0</td>\n",
       "      <td>0</td>\n",
       "      <td>0</td>\n",
       "      <td>...</td>\n",
       "      <td>0</td>\n",
       "      <td>0</td>\n",
       "      <td>0</td>\n",
       "      <td>0</td>\n",
       "      <td>0</td>\n",
       "      <td>0</td>\n",
       "      <td>0</td>\n",
       "      <td>0</td>\n",
       "      <td>0</td>\n",
       "      <td>0</td>\n",
       "    </tr>\n",
       "    <tr>\n",
       "      <th>536366</th>\n",
       "      <td>0</td>\n",
       "      <td>0</td>\n",
       "      <td>0</td>\n",
       "      <td>0</td>\n",
       "      <td>0</td>\n",
       "      <td>0</td>\n",
       "      <td>0</td>\n",
       "      <td>0</td>\n",
       "      <td>0</td>\n",
       "      <td>0</td>\n",
       "      <td>...</td>\n",
       "      <td>0</td>\n",
       "      <td>0</td>\n",
       "      <td>0</td>\n",
       "      <td>0</td>\n",
       "      <td>0</td>\n",
       "      <td>0</td>\n",
       "      <td>0</td>\n",
       "      <td>0</td>\n",
       "      <td>0</td>\n",
       "      <td>0</td>\n",
       "    </tr>\n",
       "    <tr>\n",
       "      <th>536367</th>\n",
       "      <td>0</td>\n",
       "      <td>0</td>\n",
       "      <td>0</td>\n",
       "      <td>0</td>\n",
       "      <td>0</td>\n",
       "      <td>0</td>\n",
       "      <td>0</td>\n",
       "      <td>0</td>\n",
       "      <td>0</td>\n",
       "      <td>0</td>\n",
       "      <td>...</td>\n",
       "      <td>0</td>\n",
       "      <td>0</td>\n",
       "      <td>0</td>\n",
       "      <td>0</td>\n",
       "      <td>0</td>\n",
       "      <td>0</td>\n",
       "      <td>0</td>\n",
       "      <td>0</td>\n",
       "      <td>0</td>\n",
       "      <td>0</td>\n",
       "    </tr>\n",
       "    <tr>\n",
       "      <th>536368</th>\n",
       "      <td>0</td>\n",
       "      <td>0</td>\n",
       "      <td>0</td>\n",
       "      <td>0</td>\n",
       "      <td>0</td>\n",
       "      <td>0</td>\n",
       "      <td>0</td>\n",
       "      <td>0</td>\n",
       "      <td>0</td>\n",
       "      <td>0</td>\n",
       "      <td>...</td>\n",
       "      <td>0</td>\n",
       "      <td>0</td>\n",
       "      <td>0</td>\n",
       "      <td>0</td>\n",
       "      <td>0</td>\n",
       "      <td>0</td>\n",
       "      <td>0</td>\n",
       "      <td>0</td>\n",
       "      <td>0</td>\n",
       "      <td>0</td>\n",
       "    </tr>\n",
       "    <tr>\n",
       "      <th>536369</th>\n",
       "      <td>0</td>\n",
       "      <td>0</td>\n",
       "      <td>0</td>\n",
       "      <td>0</td>\n",
       "      <td>0</td>\n",
       "      <td>0</td>\n",
       "      <td>0</td>\n",
       "      <td>0</td>\n",
       "      <td>0</td>\n",
       "      <td>0</td>\n",
       "      <td>...</td>\n",
       "      <td>0</td>\n",
       "      <td>0</td>\n",
       "      <td>0</td>\n",
       "      <td>0</td>\n",
       "      <td>0</td>\n",
       "      <td>0</td>\n",
       "      <td>0</td>\n",
       "      <td>0</td>\n",
       "      <td>0</td>\n",
       "      <td>0</td>\n",
       "    </tr>\n",
       "  </tbody>\n",
       "</table>\n",
       "<p>5 rows × 3665 columns</p>\n",
       "</div>"
      ],
      "text/plain": [
       "StockCode  10002  10080  10120  10123C  10124A  10124G  10125  10133  10135  \\\n",
       "InvoiceNo                                                                     \n",
       "536365         0      0      0       0       0       0      0      0      0   \n",
       "536366         0      0      0       0       0       0      0      0      0   \n",
       "536367         0      0      0       0       0       0      0      0      0   \n",
       "536368         0      0      0       0       0       0      0      0      0   \n",
       "536369         0      0      0       0       0       0      0      0      0   \n",
       "\n",
       "StockCode  11001  ...  90214V  90214W  90214Y  90214Z  BANK CHARGES  C2  DOT  \\\n",
       "InvoiceNo         ...                                                          \n",
       "536365         0  ...       0       0       0       0             0   0    0   \n",
       "536366         0  ...       0       0       0       0             0   0    0   \n",
       "536367         0  ...       0       0       0       0             0   0    0   \n",
       "536368         0  ...       0       0       0       0             0   0    0   \n",
       "536369         0  ...       0       0       0       0             0   0    0   \n",
       "\n",
       "StockCode  M  PADS  POST  \n",
       "InvoiceNo                 \n",
       "536365     0     0     0  \n",
       "536366     0     0     0  \n",
       "536367     0     0     0  \n",
       "536368     0     0     0  \n",
       "536369     0     0     0  \n",
       "\n",
       "[5 rows x 3665 columns]"
      ]
     },
     "execution_count": 21,
     "metadata": {},
     "output_type": "execute_result"
    }
   ],
   "source": [
    "binary_df.info()\n",
    "binary_df.head()"
   ]
  },
  {
   "cell_type": "code",
   "execution_count": null,
   "id": "b3439962",
   "metadata": {},
   "outputs": [],
   "source": [
    "data_length = binary_df.shape[0]"
   ]
  },
  {
   "cell_type": "markdown",
   "id": "9af8c8f1",
   "metadata": {},
   "source": [
    "# step 3 , simulating streaming"
   ]
  },
  {
   "cell_type": "code",
   "execution_count": null,
   "id": "879a0867",
   "metadata": {},
   "outputs": [],
   "source": [
    "hp = {\n",
    "    \"flow_size\" : 1000, # number of rows at each flow is being loaded\n",
    "    \"sketch_size\" : 500, # numbre of rows of sketch \n",
    "}"
   ]
  }
 ],
 "metadata": {
  "kernelspec": {
   "display_name": "mrcnn-pytorch",
   "language": "python",
   "name": "python3"
  },
  "language_info": {
   "codemirror_mode": {
    "name": "ipython",
    "version": 3
   },
   "file_extension": ".py",
   "mimetype": "text/x-python",
   "name": "python",
   "nbconvert_exporter": "python",
   "pygments_lexer": "ipython3",
   "version": "3.12.7"
  }
 },
 "nbformat": 4,
 "nbformat_minor": 5
}
